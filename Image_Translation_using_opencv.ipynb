{
 "cells": [
  {
   "cell_type": "code",
   "execution_count": 1,
   "id": "6a97ba7c-9ded-4908-90df-1a53bfe37504",
   "metadata": {},
   "outputs": [],
   "source": [
    "import cv2\n",
    "import numpy as np"
   ]
  },
  {
   "cell_type": "code",
   "execution_count": 4,
   "id": "c49ccf62-862b-403d-b734-c241d89b9389",
   "metadata": {},
   "outputs": [],
   "source": [
    "img=cv2.imread('image9.jpg')\n",
    "img=cv2.resize(img,(500,500))\n",
    "\n",
    "m=np.float32([[1,0,100],[0,1,50]])\n",
    "\n",
    "new=cv2.warpAffine(img,m,(400,500))\n",
    "\n",
    "cv2.imshow('image1',img)\n",
    "cv2.imshow('image2',m)\n",
    "cv2.imshow('image3',new)\n",
    "\n",
    "cv2.waitKey(0)\n",
    "cv2.destroyAllWindows()"
   ]
  },
  {
   "cell_type": "code",
   "execution_count": null,
   "id": "5bca26a5-21b5-4027-8df7-c0af48d27a01",
   "metadata": {},
   "outputs": [],
   "source": []
  }
 ],
 "metadata": {
  "kernelspec": {
   "display_name": "Python 3 (ipykernel)",
   "language": "python",
   "name": "python3"
  },
  "language_info": {
   "codemirror_mode": {
    "name": "ipython",
    "version": 3
   },
   "file_extension": ".py",
   "mimetype": "text/x-python",
   "name": "python",
   "nbconvert_exporter": "python",
   "pygments_lexer": "ipython3",
   "version": "3.13.2"
  },
  "widgets": {
   "application/vnd.jupyter.widget-state+json": {
    "state": {},
    "version_major": 2,
    "version_minor": 0
   }
  }
 },
 "nbformat": 4,
 "nbformat_minor": 5
}
