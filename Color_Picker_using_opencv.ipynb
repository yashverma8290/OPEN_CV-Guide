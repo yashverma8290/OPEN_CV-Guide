{
 "cells": [
  {
   "cell_type": "code",
   "execution_count": 3,
   "id": "3be831e0-09db-4326-90ec-c234bc7fd63f",
   "metadata": {},
   "outputs": [],
   "source": [
    "import cv2\n",
    "import numpy as np"
   ]
  },
  {
   "cell_type": "code",
   "execution_count": 4,
   "id": "21bd3a4d-ae66-49e6-b14e-92fb6dad1769",
   "metadata": {},
   "outputs": [],
   "source": [
    "def func(x):\n",
    "    pass"
   ]
  },
  {
   "cell_type": "code",
   "execution_count": 7,
   "id": "a98b63b6-c979-41ab-94e1-179880d5bb30",
   "metadata": {},
   "outputs": [],
   "source": [
    "img=np.zeros((500,500,3),np.uint8)*255\n",
    "cv2.namedWindow('colour')\n",
    "\n",
    "cv2.createTrackbar('R','colour',0,255,func)\n",
    "cv2.createTrackbar('G','colour',0,255,func)\n",
    "cv2.createTrackbar('B','colour',0,255,func)\n",
    "\n",
    "while True:\n",
    "    cv2.imshow('colour',img)\n",
    "    if cv2.waitKey(1) & 0xff==ord('p'):\n",
    "        break\n",
    "    r=cv2.getTrackbarPos('R','colour')\n",
    "    g=cv2.getTrackbarPos('G','colour')\n",
    "    b=cv2.getTrackbarPos('B','colour')\n",
    "\n",
    "    img[:]=[b,g,r]\n",
    "\n",
    "cv2.destroyAllWindows()"
   ]
  },
  {
   "cell_type": "code",
   "execution_count": null,
   "id": "94fb61e8-41c3-4aad-b27d-eb30a8889692",
   "metadata": {},
   "outputs": [],
   "source": []
  }
 ],
 "metadata": {
  "kernelspec": {
   "display_name": "Python 3 (ipykernel)",
   "language": "python",
   "name": "python3"
  },
  "language_info": {
   "codemirror_mode": {
    "name": "ipython",
    "version": 3
   },
   "file_extension": ".py",
   "mimetype": "text/x-python",
   "name": "python",
   "nbconvert_exporter": "python",
   "pygments_lexer": "ipython3",
   "version": "3.13.2"
  },
  "widgets": {
   "application/vnd.jupyter.widget-state+json": {
    "state": {},
    "version_major": 2,
    "version_minor": 0
   }
  }
 },
 "nbformat": 4,
 "nbformat_minor": 5
}
