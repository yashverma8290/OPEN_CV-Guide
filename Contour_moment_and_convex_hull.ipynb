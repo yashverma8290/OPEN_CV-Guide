{
 "cells": [
  {
   "cell_type": "code",
   "execution_count": 1,
   "id": "25089771-194b-4ce4-886e-aaf79e8a15f6",
   "metadata": {},
   "outputs": [],
   "source": [
    "import cv2"
   ]
  },
  {
   "cell_type": "code",
   "execution_count": 19,
   "id": "cbd412db-40b2-49b2-ac0e-dc7f32f3682f",
   "metadata": {},
   "outputs": [
    {
     "name": "stdout",
     "output_type": "stream",
     "text": [
      "[178674.5, 144.0, 20.5, 6585.5, 4221.5, 6508.5, 5345.5, 6933.0, 5485.0, 4390.0]\n"
     ]
    }
   ],
   "source": [
    "img=cv2.imread('image26.png')\n",
    "\n",
    "gry=cv2.cvtColor(img,cv2.COLOR_BGR2GRAY)\n",
    "\n",
    "_,thr=cv2.threshold(gry,210,255,cv2.THRESH_BINARY)\n",
    "\n",
    "cnt,hir=cv2.findContours(thr,cv2.RETR_TREE,cv2.CHAIN_APPROX_SIMPLE)\n",
    "\n",
    "img=cv2.drawContours(img,cnt,-1,(0,0,255),4)\n",
    "\n",
    "ar=[]\n",
    "\n",
    "for c in cnt:\n",
    "    m=cv2.moments(c)\n",
    "    if m['m00'] != 0:\n",
    "        x=int(m['m10']/m['m00'])\n",
    "        y=int(m['m01']/m['m00'])\n",
    "        cv2.drawContours(img,cnt,-1,(0,0,255),4)\n",
    "        cv2.circle(img,(x,y),2,(255,0,0),-1)\n",
    "        a=cv2.contourArea(c)\n",
    "        ar.append(a)\n",
    "        ep=0.01*cv2.arcLength(c,True)\n",
    "        d=cv2.approxPolyDP(c,ep,True)\n",
    "        h=cv2.convexHull(d)\n",
    "        x,y,w,h=cv2.boundingRect(h)\n",
    "        cv2.rectangle(img,(x,y),(x+w,y+h),(0,255,0))\n",
    "        \n",
    "print(ar)\n",
    "cv2.imshow('thres',thr)\n",
    "cv2.imshow('myimage',img)\n",
    "cv2.waitKey(0)\n",
    "cv2.destroyAllWindows()"
   ]
  },
  {
   "cell_type": "code",
   "execution_count": null,
   "id": "8d8446bd-2f7c-46ce-b553-5a492ed9a2b9",
   "metadata": {},
   "outputs": [],
   "source": []
  }
 ],
 "metadata": {
  "kernelspec": {
   "display_name": "Python 3 (ipykernel)",
   "language": "python",
   "name": "python3"
  },
  "language_info": {
   "codemirror_mode": {
    "name": "ipython",
    "version": 3
   },
   "file_extension": ".py",
   "mimetype": "text/x-python",
   "name": "python",
   "nbconvert_exporter": "python",
   "pygments_lexer": "ipython3",
   "version": "3.13.2"
  },
  "widgets": {
   "application/vnd.jupyter.widget-state+json": {
    "state": {},
    "version_major": 2,
    "version_minor": 0
   }
  }
 },
 "nbformat": 4,
 "nbformat_minor": 5
}
