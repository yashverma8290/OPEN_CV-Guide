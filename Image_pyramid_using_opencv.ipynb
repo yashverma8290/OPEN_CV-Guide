{
 "cells": [
  {
   "cell_type": "code",
   "execution_count": 2,
   "id": "9b0d18a4-1d6a-49e0-9a21-c0cb2b5bb8a2",
   "metadata": {},
   "outputs": [],
   "source": [
    "import cv2\n",
    "import numpy as np"
   ]
  },
  {
   "cell_type": "code",
   "execution_count": 3,
   "id": "b3ebf33d-b997-48e7-83b3-bc2b6086b940",
   "metadata": {},
   "outputs": [],
   "source": [
    "img=cv2.imread('image9.jpg')\n",
    "\n",
    "new1=cv2.pyrDown(img)\n",
    "new2=cv2.pyrDown(new1)\n",
    "new3=cv2.pyrDown(new2)\n",
    "\n",
    "cv2.imshow('image1',img)\n",
    "cv2.imshow('image2',new1)\n",
    "cv2.imshow('image3',new2)\n",
    "cv2.imshow('image4',new3)\n",
    "\n",
    "cv2.waitKey(0)\n",
    "cv2.destroyAllWindows()"
   ]
  },
  {
   "cell_type": "code",
   "execution_count": null,
   "id": "96b2c311-e2e3-405d-b9bd-eb29b2d0e10d",
   "metadata": {},
   "outputs": [],
   "source": []
  }
 ],
 "metadata": {
  "kernelspec": {
   "display_name": "Python 3 (ipykernel)",
   "language": "python",
   "name": "python3"
  },
  "language_info": {
   "codemirror_mode": {
    "name": "ipython",
    "version": 3
   },
   "file_extension": ".py",
   "mimetype": "text/x-python",
   "name": "python",
   "nbconvert_exporter": "python",
   "pygments_lexer": "ipython3",
   "version": "3.13.2"
  },
  "widgets": {
   "application/vnd.jupyter.widget-state+json": {
    "state": {},
    "version_major": 2,
    "version_minor": 0
   }
  }
 },
 "nbformat": 4,
 "nbformat_minor": 5
}
