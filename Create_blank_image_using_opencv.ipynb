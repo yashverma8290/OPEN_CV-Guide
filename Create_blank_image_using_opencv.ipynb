{
 "cells": [
  {
   "cell_type": "code",
   "execution_count": 1,
   "id": "40861082-e847-435a-951f-d932538e4468",
   "metadata": {},
   "outputs": [],
   "source": [
    "import cv2\n",
    "import numpy as np"
   ]
  },
  {
   "cell_type": "code",
   "execution_count": 2,
   "id": "a227e37c-40f4-4638-935c-7d6bd6b14ce4",
   "metadata": {},
   "outputs": [
    {
     "name": "stdout",
     "output_type": "stream",
     "text": [
      "(1010, 758, 3)\n"
     ]
    }
   ],
   "source": [
    "img=cv2.imread('image9.jpg')\n",
    "print(img.shape)"
   ]
  },
  {
   "cell_type": "code",
   "execution_count": 3,
   "id": "f38fa4ad-cdd9-4f4a-911d-d6c5a44d38b8",
   "metadata": {},
   "outputs": [],
   "source": [
    "new_img=np.ones((500,500,3),np.uint8)*255\n",
    "cv2.imshow('newimage',new_img)\n",
    "cv2.waitKey(0)\n",
    "cv2.destroyAllWindows()"
   ]
  },
  {
   "cell_type": "code",
   "execution_count": 4,
   "id": "38cb373c-aa08-496a-94bf-f0740b1af3eb",
   "metadata": {},
   "outputs": [],
   "source": [
    "new_img=np.zeros((500,500,3),np.uint8)*255\n",
    "cv2.imshow('newimage',new_img)\n",
    "cv2.waitKey(0)\n",
    "cv2.destroyAllWindows()"
   ]
  },
  {
   "cell_type": "code",
   "execution_count": null,
   "id": "2bdd54b4-8cd9-4e6d-a118-58feb40b761d",
   "metadata": {},
   "outputs": [],
   "source": []
  }
 ],
 "metadata": {
  "kernelspec": {
   "display_name": "Python 3 (ipykernel)",
   "language": "python",
   "name": "python3"
  },
  "language_info": {
   "codemirror_mode": {
    "name": "ipython",
    "version": 3
   },
   "file_extension": ".py",
   "mimetype": "text/x-python",
   "name": "python",
   "nbconvert_exporter": "python",
   "pygments_lexer": "ipython3",
   "version": "3.13.2"
  },
  "widgets": {
   "application/vnd.jupyter.widget-state+json": {
    "state": {},
    "version_major": 2,
    "version_minor": 0
   }
  }
 },
 "nbformat": 4,
 "nbformat_minor": 5
}
