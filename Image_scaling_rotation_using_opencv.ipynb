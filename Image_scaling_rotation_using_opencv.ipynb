{
 "cells": [
  {
   "cell_type": "code",
   "execution_count": 1,
   "id": "b14657e6-4738-418c-93aa-ecc7f1af2399",
   "metadata": {},
   "outputs": [],
   "source": [
    "import cv2"
   ]
  },
  {
   "cell_type": "code",
   "execution_count": 2,
   "id": "1cc56a52-2c46-45ff-abf6-482e0010d5ed",
   "metadata": {},
   "outputs": [],
   "source": [
    "org_img=cv2.imread('image3.jpg')\n",
    "res_img=cv2.resize(org_img,(500,500))\n",
    "cv2.imshow('coding',res_img)\n",
    "cv2.waitKey(0)\n",
    "cv2.destroyAllWindows()"
   ]
  },
  {
   "cell_type": "code",
   "execution_count": 17,
   "id": "6a7d47d4-83fe-493a-849d-e8176ed47c7e",
   "metadata": {},
   "outputs": [],
   "source": [
    "org_img=cv2.imread('image3.jpg')\n",
    "res_img=cv2.resize(org_img,(500,500))\n",
    "\n",
    "w,h=res_img.shape[0], res_img.shape[1]\n",
    "nw, nh=w//2, h//2\n",
    "\n",
    "#m=cv2.getRotationMatrix2D(center, angle, scale)\n",
    "m=cv2.getRotationMatrix2D((nh,nw),10,1)\n",
    "new_img=cv2.warpAffine(res_img, m, (h,w))\n",
    "cv2.imshow(\"myimage\",new_img)\n",
    "cv2.waitKey(0)\n",
    "cv2.destroyAllWindows()\n",
    "           \n",
    " "
   ]
  },
  {
   "cell_type": "code",
   "execution_count": null,
   "id": "509089d0-5ccc-4ffc-bb51-0e22e3d719a2",
   "metadata": {},
   "outputs": [],
   "source": []
  }
 ],
 "metadata": {
  "kernelspec": {
   "display_name": "Python 3 (ipykernel)",
   "language": "python",
   "name": "python3"
  },
  "language_info": {
   "codemirror_mode": {
    "name": "ipython",
    "version": 3
   },
   "file_extension": ".py",
   "mimetype": "text/x-python",
   "name": "python",
   "nbconvert_exporter": "python",
   "pygments_lexer": "ipython3",
   "version": "3.13.2"
  },
  "widgets": {
   "application/vnd.jupyter.widget-state+json": {
    "state": {},
    "version_major": 2,
    "version_minor": 0
   }
  }
 },
 "nbformat": 4,
 "nbformat_minor": 5
}
