{
 "cells": [
  {
   "cell_type": "code",
   "execution_count": 1,
   "id": "c42ba781-7089-433d-96f0-4533b2186559",
   "metadata": {},
   "outputs": [],
   "source": [
    "import cv2"
   ]
  },
  {
   "cell_type": "code",
   "execution_count": 2,
   "id": "c862a4f9-83a5-4914-970e-e351e9558624",
   "metadata": {},
   "outputs": [
    {
     "name": "stdout",
     "output_type": "stream",
     "text": [
      "(500, 500, 3)\n"
     ]
    }
   ],
   "source": [
    "img=cv2.imread('image9.jpg')\n",
    "img=cv2.resize(img,(500,500))\n",
    "\n",
    "print(img.shape)\n",
    "# img[y1:y2, x1:x2]\n",
    "\n",
    "crop=img[120:180, 200:400]\n",
    "\n",
    "cv2.imshow('crop',crop)\n",
    "cv2.imshow('old',img)\n",
    "cv2.waitKey(0)\n",
    "cv2.destroyAllWindows()"
   ]
  },
  {
   "cell_type": "code",
   "execution_count": null,
   "id": "8e7e8a6a-4e66-416f-8ead-af45f8825c39",
   "metadata": {},
   "outputs": [],
   "source": []
  }
 ],
 "metadata": {
  "kernelspec": {
   "display_name": "Python 3 (ipykernel)",
   "language": "python",
   "name": "python3"
  },
  "language_info": {
   "codemirror_mode": {
    "name": "ipython",
    "version": 3
   },
   "file_extension": ".py",
   "mimetype": "text/x-python",
   "name": "python",
   "nbconvert_exporter": "python",
   "pygments_lexer": "ipython3",
   "version": "3.13.2"
  },
  "widgets": {
   "application/vnd.jupyter.widget-state+json": {
    "state": {},
    "version_major": 2,
    "version_minor": 0
   }
  }
 },
 "nbformat": 4,
 "nbformat_minor": 5
}
