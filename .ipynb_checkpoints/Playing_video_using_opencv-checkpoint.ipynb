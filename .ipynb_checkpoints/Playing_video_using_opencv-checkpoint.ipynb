{
 "cells": [
  {
   "cell_type": "code",
   "execution_count": 1,
   "id": "65f531e4-bfc5-459b-a2ed-9ad560227c75",
   "metadata": {},
   "outputs": [],
   "source": [
    "import cv2"
   ]
  },
  {
   "cell_type": "code",
   "execution_count": 3,
   "id": "b5e1c960-344b-48c5-b1b0-0d5ff18aee84",
   "metadata": {},
   "outputs": [],
   "source": [
    "cap=cv2.VideoCapture('MIT.mp4')\n",
    "\n",
    "while cap.isOpened():\n",
    "    returnn,frame = cap.read()\n",
    "    if returnn==True:\n",
    "        frame=cv2.resize(frame,(600,600))\n",
    "        cv2.imshow(\"mit\",frame)\n",
    "        if cv2.waitKey(25) & 0xff==ord('p'):\n",
    "            break\n",
    "    else:\n",
    "        break\n",
    "\n",
    "cap.release()\n",
    "cv2.destroyAllWindows()"
   ]
  },
  {
   "cell_type": "code",
   "execution_count": null,
   "id": "e362ac20-8c94-47a6-a602-ce94ca8ec7f6",
   "metadata": {},
   "outputs": [],
   "source": []
  }
 ],
 "metadata": {
  "kernelspec": {
   "display_name": "Python 3 (ipykernel)",
   "language": "python",
   "name": "python3"
  },
  "language_info": {
   "codemirror_mode": {
    "name": "ipython",
    "version": 3
   },
   "file_extension": ".py",
   "mimetype": "text/x-python",
   "name": "python",
   "nbconvert_exporter": "python",
   "pygments_lexer": "ipython3",
   "version": "3.13.2"
  },
  "widgets": {
   "application/vnd.jupyter.widget-state+json": {
    "state": {},
    "version_major": 2,
    "version_minor": 0
   }
  }
 },
 "nbformat": 4,
 "nbformat_minor": 5
}
