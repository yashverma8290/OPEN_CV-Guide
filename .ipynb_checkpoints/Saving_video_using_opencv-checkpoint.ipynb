{
 "cells": [
  {
   "cell_type": "code",
   "execution_count": 2,
   "id": "6761b7ce-02ea-4004-826e-a402e788ba2e",
   "metadata": {},
   "outputs": [],
   "source": [
    "import cv2"
   ]
  },
  {
   "cell_type": "code",
   "execution_count": 10,
   "id": "79e6709c-c1fc-4bad-9025-340724f7319f",
   "metadata": {},
   "outputs": [],
   "source": [
    "# cap=cv2.VideoCapture(0)\n",
    "\n",
    "# f=cv2.VideoWriter_fourcc(*'XVID')\n",
    "# out=cv2.VideoWriter('demo.mp4',f,40.0,(640,480))\n",
    "\n",
    "# while cap.isOpened():\n",
    "#     r,frame=cap.read()\n",
    "#     if r==True:\n",
    "       \n",
    "#         frame=cv2.flip(frame,1)\n",
    "#         out.write(frame)\n",
    "#         cv2.imshow('newframe',frame)\n",
    "#         if cv2.waitKey(25) & 0xff==ord('p'):\n",
    "#             break\n",
    "#     else:\n",
    "#         break\n",
    "\n",
    "# cap.release()\n",
    "# out.release()\n",
    "# cv2.destroyAllWindows()"
   ]
  },
  {
   "cell_type": "code",
   "execution_count": 13,
   "id": "79b6d67e-fab9-410d-845d-6cb44d3b3c5c",
   "metadata": {},
   "outputs": [],
   "source": [
    "cap=cv2.VideoCapture(0)\n",
    "\n",
    "f=cv2.VideoWriter_fourcc(*'XVID')\n",
    "out=cv2.VideoWriter('demo2.mp4',f,40.0,(640,480),0)\n",
    "\n",
    "while cap.isOpened():\n",
    "    r,frame=cap.read()\n",
    "    if r==True:\n",
    "        frame=cv2.cvtColor(frame,cv2.COLOR_BGR2GRAY)\n",
    "        frame=cv2.flip(frame,1)\n",
    "        out.write(frame)\n",
    "        cv2.imshow('newframe',frame)\n",
    "        if cv2.waitKey(25) & 0xff==ord('p'):\n",
    "            break\n",
    "    else:\n",
    "        break\n",
    "\n",
    "cap.release()\n",
    "out.release()\n",
    "cv2.destroyAllWindows()"
   ]
  },
  {
   "cell_type": "code",
   "execution_count": null,
   "id": "0d45cd18-fdf9-480c-8014-ff64c99653ae",
   "metadata": {},
   "outputs": [],
   "source": []
  }
 ],
 "metadata": {
  "kernelspec": {
   "display_name": "Python 3 (ipykernel)",
   "language": "python",
   "name": "python3"
  },
  "language_info": {
   "codemirror_mode": {
    "name": "ipython",
    "version": 3
   },
   "file_extension": ".py",
   "mimetype": "text/x-python",
   "name": "python",
   "nbconvert_exporter": "python",
   "pygments_lexer": "ipython3",
   "version": "3.13.2"
  },
  "widgets": {
   "application/vnd.jupyter.widget-state+json": {
    "state": {},
    "version_major": 2,
    "version_minor": 0
   }
  }
 },
 "nbformat": 4,
 "nbformat_minor": 5
}
