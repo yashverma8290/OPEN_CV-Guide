{
 "cells": [
  {
   "cell_type": "code",
   "execution_count": 1,
   "id": "e4de56e2-a2aa-401d-872a-43f13841e378",
   "metadata": {},
   "outputs": [],
   "source": [
    "import cv2"
   ]
  },
  {
   "cell_type": "code",
   "execution_count": 13,
   "id": "e860c3db-1b32-48c5-8c01-1b2dee45fed1",
   "metadata": {},
   "outputs": [
    {
     "ename": "ValueError",
     "evalue": "could not broadcast input array from shape (325,211,3) into shape (325,166,3)",
     "output_type": "error",
     "traceback": [
      "\u001b[31m---------------------------------------------------------------------------\u001b[39m",
      "\u001b[31mValueError\u001b[39m                                Traceback (most recent call last)",
      "\u001b[36mCell\u001b[39m\u001b[36m \u001b[39m\u001b[32mIn[13]\u001b[39m\u001b[32m, line 4\u001b[39m\n\u001b[32m      2\u001b[39m \u001b[38;5;66;03m#img=cv2.resize(img,(500,700))\u001b[39;00m\n\u001b[32m      3\u001b[39m crop=img[\u001b[32m134\u001b[39m:\u001b[32m459\u001b[39m,\u001b[32m123\u001b[39m:\u001b[32m334\u001b[39m]\n\u001b[32m----> \u001b[39m\u001b[32m4\u001b[39m \u001b[43mimg\u001b[49m\u001b[43m[\u001b[49m\u001b[32;43m134\u001b[39;49m\u001b[43m:\u001b[49m\u001b[32;43m459\u001b[39;49m\u001b[43m,\u001b[49m\u001b[32;43m334\u001b[39;49m\u001b[43m:\u001b[49m\u001b[32;43m545\u001b[39;49m\u001b[43m]\u001b[49m=crop\n\u001b[32m      6\u001b[39m cv2.imwrite(\u001b[33m\"\u001b[39m\u001b[33mraone.png\u001b[39m\u001b[33m\"\u001b[39m,img)\n\u001b[32m      7\u001b[39m cv2.imshow(\u001b[33m'\u001b[39m\u001b[33mmyimage\u001b[39m\u001b[33m'\u001b[39m,img)\n",
      "\u001b[31mValueError\u001b[39m: could not broadcast input array from shape (325,211,3) into shape (325,166,3)"
     ]
    }
   ],
   "source": [
    "img=cv2.imread('raone.png')\n",
    "#img=cv2.resize(img,(500,700))\n",
    "crop=img[134:459,123:334]\n",
    "img[134:459,334:545]=crop\n",
    "\n",
    "cv2.imwrite(\"raone.png\",img)\n",
    "cv2.imshow('myimage',img)\n",
    "cv2.waitKey(0)\n",
    "cv2.destroyAllWindows()"
   ]
  },
  {
   "cell_type": "code",
   "execution_count": null,
   "id": "36c7a0b0-8965-4876-b4b6-e8613a5f6093",
   "metadata": {},
   "outputs": [],
   "source": []
  },
  {
   "cell_type": "code",
   "execution_count": null,
   "id": "d9d30df2-5df7-40df-ad77-58eb0957d86d",
   "metadata": {},
   "outputs": [],
   "source": []
  }
 ],
 "metadata": {
  "kernelspec": {
   "display_name": "Python 3 (ipykernel)",
   "language": "python",
   "name": "python3"
  },
  "language_info": {
   "codemirror_mode": {
    "name": "ipython",
    "version": 3
   },
   "file_extension": ".py",
   "mimetype": "text/x-python",
   "name": "python",
   "nbconvert_exporter": "python",
   "pygments_lexer": "ipython3",
   "version": "3.13.2"
  },
  "widgets": {
   "application/vnd.jupyter.widget-state+json": {
    "state": {},
    "version_major": 2,
    "version_minor": 0
   }
  }
 },
 "nbformat": 4,
 "nbformat_minor": 5
}
