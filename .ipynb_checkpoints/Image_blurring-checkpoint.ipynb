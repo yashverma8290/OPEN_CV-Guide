{
 "cells": [
  {
   "cell_type": "code",
   "execution_count": 10,
   "id": "3253e81d-cc69-41f9-806e-6dfc82964da5",
   "metadata": {},
   "outputs": [],
   "source": [
    "import cv2\n",
    "import numpy as np"
   ]
  },
  {
   "cell_type": "code",
   "execution_count": 19,
   "id": "f35657f3-ae47-43fa-bc1f-4902808ec6c1",
   "metadata": {},
   "outputs": [],
   "source": [
    "# Gaussian blur\n",
    "org_img=cv2.imread(\"image9.jpg\")\n",
    "res_img=cv2.resize(org_img,(500,500))\n",
    "\n",
    "g=cv2.GaussianBlur(res_img,(7,7),0)\n",
    "h=np.hstack((res_img,g))\n",
    "cv2.imshow(\"elon\",h)\n",
    "cv2.waitKey(0)\n",
    "cv2.destroyAllWindows()"
   ]
  },
  {
   "cell_type": "code",
   "execution_count": 18,
   "id": "3d7256fa-0401-4dd8-8111-c6225005abd4",
   "metadata": {},
   "outputs": [],
   "source": [
    "# median Blur\n",
    "org_img=cv2.imread(\"image9.jpg\")\n",
    "res_img=cv2.resize(org_img,(500,500))\n",
    "\n",
    "m=cv2.medianBlur(res_img,5)\n",
    "h=np.hstack((res_img,m))\n",
    "cv2.imshow(\"elon\",h)\n",
    "cv2.waitKey(0)\n",
    "cv2.destroyAllWindows()"
   ]
  },
  {
   "cell_type": "code",
   "execution_count": 17,
   "id": "9ef7e503-3f5f-430b-a7f3-ecefedac7ddb",
   "metadata": {},
   "outputs": [],
   "source": [
    "# bilateral blur\n",
    "org_img=cv2.imread(\"image9.jpg\")\n",
    "res_img=cv2.resize(org_img,(500,500))\n",
    "\n",
    "b=cv2.bilateralFilter(res_img,9,75,75)\n",
    "h=np.hstack((res_img,b))\n",
    "cv2.imshow(\"elon\",h)\n",
    "cv2.waitKey(0)\n",
    "cv2.destroyAllWindows()"
   ]
  },
  {
   "cell_type": "code",
   "execution_count": 22,
   "id": "8eb7c651-676e-4312-a31a-3a1b1aad3352",
   "metadata": {},
   "outputs": [],
   "source": [
    "# all in one\n",
    "org_img=cv2.imread(\"image9.jpg\")\n",
    "res_img=cv2.resize(org_img,(250,250))\n",
    "\n",
    "g=cv2.GaussianBlur(res_img,(7,7),0)\n",
    "m=cv2.medianBlur(res_img,5)\n",
    "b=cv2.bilateralFilter(res_img,9,75,75)\n",
    "\n",
    "h=np.hstack((res_img,g,m,b))\n",
    "cv2.imshow(\"elon\",h)\n",
    "cv2.waitKey(0)\n",
    "cv2.destroyAllWindows()"
   ]
  },
  {
   "cell_type": "code",
   "execution_count": null,
   "id": "fab53560-9d49-4d52-b894-ea990687cab6",
   "metadata": {},
   "outputs": [],
   "source": []
  }
 ],
 "metadata": {
  "kernelspec": {
   "display_name": "Python 3 (ipykernel)",
   "language": "python",
   "name": "python3"
  },
  "language_info": {
   "codemirror_mode": {
    "name": "ipython",
    "version": 3
   },
   "file_extension": ".py",
   "mimetype": "text/x-python",
   "name": "python",
   "nbconvert_exporter": "python",
   "pygments_lexer": "ipython3",
   "version": "3.13.2"
  },
  "widgets": {
   "application/vnd.jupyter.widget-state+json": {
    "state": {},
    "version_major": 2,
    "version_minor": 0
   }
  }
 },
 "nbformat": 4,
 "nbformat_minor": 5
}
