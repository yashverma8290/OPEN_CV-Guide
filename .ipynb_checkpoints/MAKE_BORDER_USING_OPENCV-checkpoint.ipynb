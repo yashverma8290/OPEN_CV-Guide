{
 "cells": [
  {
   "cell_type": "code",
   "execution_count": 1,
   "id": "ce17cc14-d9fa-48b4-b31c-5c094d49f4da",
   "metadata": {},
   "outputs": [],
   "source": [
    "import cv2\n",
    "import numpy as np"
   ]
  },
  {
   "cell_type": "code",
   "execution_count": 18,
   "id": "a0a1ada7-fd76-44e9-9fcc-4979527029f1",
   "metadata": {},
   "outputs": [],
   "source": [
    "img=cv2.imread('image9.jpg')\n",
    "img=cv2.resize(img,(300,300))\n",
    "\n",
    "img1=cv2.copyMakeBorder(img,20,20,20,20,cv2.BORDER_CONSTANT,None,value=2)\n",
    "img1=cv2.resize(img1,(300,300))\n",
    "\n",
    "h=np.hstack((img,img1))\n",
    "\n",
    "cv2.imshow('elon',h)\n",
    "cv2.waitKey(0)\n",
    "cv2.destroyAllWindows()"
   ]
  },
  {
   "cell_type": "code",
   "execution_count": 20,
   "id": "0266020e-8595-4c93-92fb-2d88d1e3831e",
   "metadata": {},
   "outputs": [],
   "source": [
    "img=cv2.imread('image9.jpg')\n",
    "img=cv2.resize(img,(300,300))\n",
    "\n",
    "img1=cv2.copyMakeBorder(img,20,20,20,20,cv2.BORDER_DEFAULT,None,value=2)\n",
    "\n",
    "\n",
    "cv2.imshow('elon',img1)\n",
    "cv2.waitKey(0)\n",
    "cv2.destroyAllWindows()"
   ]
  },
  {
   "cell_type": "code",
   "execution_count": 21,
   "id": "08e4831a-bd65-45b4-b864-e8a4d9bbcd1f",
   "metadata": {},
   "outputs": [],
   "source": [
    "import cv2\n",
    "import numpy as np\n",
    "\n",
    "img = cv2.imread('image9.jpg')\n",
    "img = cv2.resize(img, (300, 300))\n",
    "\n",
    "img1 = cv2.copyMakeBorder(img, 20, 20, 20, 20, cv2.BORDER_REFLECT)\n",
    "\n",
    "\n",
    "cv2.imshow('elon', img1)\n",
    "cv2.waitKey(0)\n",
    "cv2.destroyAllWindows()\n"
   ]
  },
  {
   "cell_type": "code",
   "execution_count": null,
   "id": "6e6fee0c-ddd1-4a29-bf72-ed9772448da4",
   "metadata": {},
   "outputs": [],
   "source": []
  }
 ],
 "metadata": {
  "kernelspec": {
   "display_name": "Python 3 (ipykernel)",
   "language": "python",
   "name": "python3"
  },
  "language_info": {
   "codemirror_mode": {
    "name": "ipython",
    "version": 3
   },
   "file_extension": ".py",
   "mimetype": "text/x-python",
   "name": "python",
   "nbconvert_exporter": "python",
   "pygments_lexer": "ipython3",
   "version": "3.13.2"
  },
  "widgets": {
   "application/vnd.jupyter.widget-state+json": {
    "state": {},
    "version_major": 2,
    "version_minor": 0
   }
  }
 },
 "nbformat": 4,
 "nbformat_minor": 5
}
