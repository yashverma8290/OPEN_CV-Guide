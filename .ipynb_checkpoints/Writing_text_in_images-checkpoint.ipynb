{
 "cells": [
  {
   "cell_type": "code",
   "execution_count": 2,
   "id": "7f70483c-a307-4cec-a795-85de19576ff3",
   "metadata": {},
   "outputs": [],
   "source": [
    "import cv2"
   ]
  },
  {
   "cell_type": "code",
   "execution_count": 3,
   "id": "2ad549ca-107e-4867-b23e-c8cac31235ee",
   "metadata": {},
   "outputs": [],
   "source": [
    "img_get=cv2.imread('image3.jpg')\n",
    "img_get=cv2.resize(img_get,(500,600))\n",
    "\n",
    "txt=cv2.putText(img=img_get,\n",
    "text=\"machine\",\n",
    "org=(50,100),\n",
    "fontFace=cv2.FONT_HERSHEY_DUPLEX,\n",
    "fontScale=3,\n",
    "color=(0,0,255),\n",
    "thickness=3,\n",
    "lineType=cv2.LINE_8,\n",
    "bottomLeftOrigin=False)\n",
    "\n",
    "cv2.imshow('myimage',img_get)\n",
    "cv2.waitKey(0)\n",
    "cv2.destroyAllWindows()"
   ]
  },
  {
   "cell_type": "code",
   "execution_count": 4,
   "id": "3090948d-7e00-42a4-80b3-c403736642c3",
   "metadata": {},
   "outputs": [],
   "source": [
    " # img, text, org, fontFace, fontScale, color[, thickness[, lineType[, bottomLeftOrigin]]]"
   ]
  },
  {
   "cell_type": "markdown",
   "id": "8e9575e9-5883-4a80-ad89-9eb9083e9a14",
   "metadata": {},
   "source": [
    "# DRAW LINE AND RECTANGLE ON IMAGE"
   ]
  },
  {
   "cell_type": "code",
   "execution_count": 5,
   "id": "3e9bb4bb-b4dc-4ab2-b798-e7850b8ebb05",
   "metadata": {},
   "outputs": [],
   "source": [
    "# drawing line\n",
    "import cv2\n",
    "old_img=cv2.imread(\"image9.jpg\")\n",
    "old_img=cv2.resize(old_img,(500,500))\n",
    "\n",
    "new_img=cv2.line(img=old_img, pt1=(150,70), pt2=(350,70), color=(0,255,0), thickness=4, lineType=4)\n",
    "\n",
    "cv2.imshow(\"elon musk\",new_img)\n",
    "cv2.waitKey(0)\n",
    "cv2.destroyAllWindows()"
   ]
  },
  {
   "cell_type": "code",
   "execution_count": 26,
   "id": "c3df1fd2-f4cf-4699-8ae1-f9e86c3d001f",
   "metadata": {},
   "outputs": [],
   "source": [
    "#drawing rectangle\n",
    "import cv2\n",
    "old_img=cv2.imread(\"image9.jpg\")\n",
    "old_img=cv2.resize(old_img,(500,500))\n",
    "\n",
    "txt_img=cv2.putText(img=old_img, text=\"musk\", org=(170,60), fontFace=1, fontScale=4, color=(0,0,255), thickness=4, lineType=12, bottomLeftOrigin=False)\n",
    "new_img=cv2.rectangle(img=txt_img, pt1=(150,70), pt2=(350,300), color=(0,255,0), thickness=2, lineType=4)\n",
    "\n",
    "cv2.imshow(\"elon musk\",new_img)\n",
    "cv2.waitKey(0)\n",
    "cv2.destroyAllWindows()"
   ]
  },
  {
   "cell_type": "code",
   "execution_count": 36,
   "id": "1a7f411e-44a4-46dc-979c-1ed4e5a93453",
   "metadata": {},
   "outputs": [],
   "source": [
    "#drawing circle\n",
    "import cv2\n",
    "old_img=cv2.imread(\"image9.jpg\")\n",
    "old_img=cv2.resize(old_img,(500,500))\n",
    "\n",
    "\n",
    "new_img=cv2.circle(img=old_img, center=(245,200), radius=120, color=(0,255,0), thickness=4, lineType=16)\n",
    "\n",
    "cv2.imshow(\"elon musk\",new_img)\n",
    "cv2.waitKey(0)\n",
    "cv2.destroyAllWindows()"
   ]
  },
  {
   "cell_type": "code",
   "execution_count": 66,
   "id": "8442e5c7-c03f-43db-a9ff-80c5b01aee52",
   "metadata": {},
   "outputs": [],
   "source": [
    "#drawing ellipse\n",
    "import cv2\n",
    "old_img=cv2.imread(\"image10.png\")\n",
    "old_img=cv2.resize(old_img,(500,500))\n",
    "\n",
    "txt_img=cv2.putText(img=old_img, text=\"elon\", org=(320,160), fontFace=2, fontScale=1, color=(0,255,0), thickness=2, lineType=16, bottomLeftOrigin=False)\n",
    "new_img=cv2.ellipse(img=txt_img, center=(270,170), axes=(50,100), angle=-10, startAngle=0, endAngle=360, color=(0,255,0), thickness=4, lineType=16)\n",
    "\n",
    "cv2.imshow(\"elon musk\",new_img)\n",
    "cv2.waitKey(0)\n",
    "cv2.destroyAllWindows()"
   ]
  },
  {
   "cell_type": "code",
   "execution_count": 67,
   "id": "74dcc455-d6fb-47ec-90c5-23d80b04ba72",
   "metadata": {},
   "outputs": [],
   "source": [
    "#drawing polygons\n",
    "import numpy as np"
   ]
  },
  {
   "cell_type": "code",
   "execution_count": 69,
   "id": "ef84249d-a349-45ab-b481-6ac9437b9558",
   "metadata": {},
   "outputs": [],
   "source": [
    "old_img=cv2.imread('image10.png')\n",
    "old_img=cv2.resize(old_img,(500,500))\n",
    "# adjust the point accordingly\n",
    "new_img=cv2.polylines(img=old_img, pts=[np.array([[100,200],[150,100],[300,200],[300,500],[100,500]])], isClosed=True, color=(0,255,0), thickness=4, lineType=16)\n",
    "cv2.imshow(\"elon\",old_img)\n",
    "cv2.waitKey(0)\n",
    "cv2.destroyAllWindows()"
   ]
  },
  {
   "cell_type": "code",
   "execution_count": null,
   "id": "66b7041c-44a9-4aeb-b211-e0e0f99e02c0",
   "metadata": {},
   "outputs": [],
   "source": []
  }
 ],
 "metadata": {
  "kernelspec": {
   "display_name": "Python 3 (ipykernel)",
   "language": "python",
   "name": "python3"
  },
  "language_info": {
   "codemirror_mode": {
    "name": "ipython",
    "version": 3
   },
   "file_extension": ".py",
   "mimetype": "text/x-python",
   "name": "python",
   "nbconvert_exporter": "python",
   "pygments_lexer": "ipython3",
   "version": "3.13.2"
  },
  "widgets": {
   "application/vnd.jupyter.widget-state+json": {
    "state": {},
    "version_major": 2,
    "version_minor": 0
   }
  }
 },
 "nbformat": 4,
 "nbformat_minor": 5
}
