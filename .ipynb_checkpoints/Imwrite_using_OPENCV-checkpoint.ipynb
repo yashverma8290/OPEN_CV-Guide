{
 "cells": [
  {
   "cell_type": "code",
   "execution_count": 2,
   "id": "98c91e4a-84d8-4ac6-ae09-737710e4ab99",
   "metadata": {},
   "outputs": [],
   "source": [
    "import cv2\n",
    "import numpy as np"
   ]
  },
  {
   "cell_type": "code",
   "execution_count": 5,
   "id": "7ce64763-46fc-4afd-96a8-996f884f2a09",
   "metadata": {},
   "outputs": [],
   "source": [
    "img=cv2.imread('image9.jpg')\n",
    "re_img=cv2.resize(img,(300,300))\n",
    "\n",
    "h=np.hstack((re_img,re_img))\n",
    "v=np.vstack((h,h))\n",
    "\n",
    "cv2.imwrite(\"newimg.jpg\",v)\n",
    "cv2.imshow('elon',v)\n",
    "cv2.waitKey(0)\n",
    "cv2.destroyAllWindows()"
   ]
  },
  {
   "cell_type": "code",
   "execution_count": null,
   "id": "73ac80c4-7d93-4e7f-8591-b79c7aac7014",
   "metadata": {},
   "outputs": [],
   "source": []
  }
 ],
 "metadata": {
  "kernelspec": {
   "display_name": "Python 3 (ipykernel)",
   "language": "python",
   "name": "python3"
  },
  "language_info": {
   "codemirror_mode": {
    "name": "ipython",
    "version": 3
   },
   "file_extension": ".py",
   "mimetype": "text/x-python",
   "name": "python",
   "nbconvert_exporter": "python",
   "pygments_lexer": "ipython3",
   "version": "3.13.2"
  },
  "widgets": {
   "application/vnd.jupyter.widget-state+json": {
    "state": {},
    "version_major": 2,
    "version_minor": 0
   }
  }
 },
 "nbformat": 4,
 "nbformat_minor": 5
}
