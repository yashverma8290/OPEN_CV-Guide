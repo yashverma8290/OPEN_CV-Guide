{
 "cells": [
  {
   "cell_type": "code",
   "execution_count": 1,
   "id": "881b4879-2545-4e8f-9691-018ddbfc13f4",
   "metadata": {},
   "outputs": [],
   "source": [
    "import cv2\n",
    "import numpy as np"
   ]
  },
  {
   "cell_type": "markdown",
   "id": "f29919fc-370c-43a4-9ef0-b13717e42bb6",
   "metadata": {},
   "source": [
    "# Erode"
   ]
  },
  {
   "cell_type": "code",
   "execution_count": 7,
   "id": "b6bb4ce3-f8ab-414f-a92f-532658c67bcb",
   "metadata": {},
   "outputs": [],
   "source": [
    "img=cv2.imread('image12.png')\n",
    "img=cv2.resize(img,(500,500))\n",
    "\n",
    "m=np.ones((15,15),np.int8)\n",
    "\n",
    "er=cv2.erode(img,m,iterations=1)\n",
    "\n",
    "\n",
    "n=np.hstack((img,er))\n",
    "\n",
    "cv2.imshow('myimage',n)\n",
    "\n",
    "cv2.waitKey(0)\n",
    "cv2.destroyAllWindows()"
   ]
  },
  {
   "cell_type": "markdown",
   "id": "7cc297a8-5ff0-4211-963a-b726507e1358",
   "metadata": {},
   "source": [
    "# Dilation"
   ]
  },
  {
   "cell_type": "code",
   "execution_count": 6,
   "id": "4069d934-9b73-492f-b136-45c4d72e2fef",
   "metadata": {},
   "outputs": [],
   "source": [
    "img=cv2.imread('image12.png')\n",
    "img=cv2.resize(img,(500,500))\n",
    "\n",
    "m=np.ones((15,15),np.int8)\n",
    "\n",
    "dila=cv2.dilate(img,m,iterations=1)\n",
    "\n",
    "\n",
    "n=np.hstack((img,dila))\n",
    "\n",
    "cv2.imshow('myimage',n)\n",
    "\n",
    "cv2.waitKey(0)\n",
    "cv2.destroyAllWindows()"
   ]
  },
  {
   "cell_type": "markdown",
   "id": "341b8304-b987-4852-a472-424edc3d65e2",
   "metadata": {},
   "source": [
    "# Opening"
   ]
  },
  {
   "cell_type": "code",
   "execution_count": 14,
   "id": "00bcacfc-62a5-4dfd-b5b9-14b98ea2bded",
   "metadata": {},
   "outputs": [],
   "source": [
    "img=cv2.imread('image13.png')\n",
    "img=cv2.resize(img,(400,400))\n",
    "\n",
    "k=np.ones((5,5),np.int8)\n",
    "\n",
    "op=cv2.morphologyEx(img,cv2.MORPH_OPEN,k, iterations=1)\n",
    "\n",
    "n=np.hstack((img,op))\n",
    "\n",
    "cv2.imshow('myimage',n)\n",
    "cv2.waitKey(0)\n",
    "cv2.destroyAllWindows()"
   ]
  },
  {
   "cell_type": "code",
   "execution_count": 16,
   "id": "0d26a5b8-d5c0-42c7-b56a-5700bbfb8324",
   "metadata": {},
   "outputs": [],
   "source": [
    "img=cv2.imread('image13.png')\n",
    "img=cv2.resize(img,(400,400))\n",
    "\n",
    "k=np.ones((7,7),np.int8)\n",
    "\n",
    "op=cv2.morphologyEx(img,cv2.MORPH_OPEN,k, iterations=1)\n",
    "\n",
    "n=np.hstack((img,op))\n",
    "\n",
    "cv2.imshow('myimage',n)\n",
    "cv2.waitKey(0)\n",
    "cv2.destroyAllWindows()"
   ]
  },
  {
   "cell_type": "code",
   "execution_count": 17,
   "id": "7f2be8b4-f5a8-436c-b1cb-608da670e1de",
   "metadata": {},
   "outputs": [],
   "source": [
    "img=cv2.imread('image13.png')\n",
    "img=cv2.resize(img,(400,400))\n",
    "\n",
    "k=np.ones((10,10),np.int8)\n",
    "\n",
    "op=cv2.morphologyEx(img,cv2.MORPH_OPEN,k, iterations=1)\n",
    "\n",
    "n=np.hstack((img,op))\n",
    "\n",
    "cv2.imshow('myimage',n)\n",
    "cv2.waitKey(0)\n",
    "cv2.destroyAllWindows()"
   ]
  },
  {
   "cell_type": "markdown",
   "id": "9e436db5-8f1b-4a7e-afe4-b001883209f6",
   "metadata": {},
   "source": [
    "# Closing"
   ]
  },
  {
   "cell_type": "code",
   "execution_count": 18,
   "id": "a712b07e-0d41-4782-9c93-bb79fb528a67",
   "metadata": {},
   "outputs": [],
   "source": [
    "img=cv2.imread('image14.png')\n",
    "img=cv2.resize(img,(400,400))\n",
    "\n",
    "k=np.ones((10,10),np.int8)\n",
    "\n",
    "cl=cv2.morphologyEx(img,cv2.MORPH_CLOSE,k, iterations=1)\n",
    "\n",
    "n=np.hstack((img,cl))\n",
    "\n",
    "cv2.imshow('myimage',n)\n",
    "cv2.waitKey(0)\n",
    "cv2.destroyAllWindows()"
   ]
  },
  {
   "cell_type": "markdown",
   "id": "c5103c53-a60a-47c6-a330-8f8b16976e69",
   "metadata": {},
   "source": [
    "# Morphological gradient"
   ]
  },
  {
   "cell_type": "code",
   "execution_count": 20,
   "id": "68285124-387d-4f1e-8925-a33f030fe48f",
   "metadata": {},
   "outputs": [],
   "source": [
    "img=cv2.imread('image12.png')\n",
    "img=cv2.resize(img,(400,400))\n",
    "\n",
    "k=np.ones((10,10),np.int8)\n",
    "\n",
    "gr=cv2.morphologyEx(img,cv2.MORPH_GRADIENT,k, iterations=1)\n",
    "\n",
    "n=np.hstack((img,gr))\n",
    "\n",
    "cv2.imshow('myimage',n)\n",
    "cv2.waitKey(0)\n",
    "cv2.destroyAllWindows()"
   ]
  },
  {
   "cell_type": "markdown",
   "id": "a85142c7-2898-437f-a3d1-284bb9a7a203",
   "metadata": {},
   "source": [
    "# TOP HAT"
   ]
  },
  {
   "cell_type": "code",
   "execution_count": 32,
   "id": "577d18e8-c842-4407-a866-3179b71e870d",
   "metadata": {},
   "outputs": [],
   "source": [
    "img=cv2.imread('image12.png')\n",
    "img=cv2.resize(img,(400,400))\n",
    "\n",
    "k=np.ones((30,30),np.int8)\n",
    "\n",
    "cl=cv2.morphologyEx(img,cv2.MORPH_TOPHAT,k, iterations=1)\n",
    "\n",
    "n=np.hstack((img,cl))\n",
    "\n",
    "cv2.imshow('myimage',n)\n",
    "cv2.waitKey(0)\n",
    "cv2.destroyAllWindows()"
   ]
  },
  {
   "cell_type": "markdown",
   "id": "37f2ed48-662e-4d5d-986e-67b59d75f367",
   "metadata": {},
   "source": [
    "change the value of kernal accordingly to get the desired result"
   ]
  },
  {
   "cell_type": "markdown",
   "id": "96e6c2c7-1483-49b8-b708-7df1d6eb4c70",
   "metadata": {},
   "source": [
    "# Black hat"
   ]
  },
  {
   "cell_type": "code",
   "execution_count": 33,
   "id": "8b6f9a2b-76bc-4609-97df-bf8635e8c7af",
   "metadata": {},
   "outputs": [],
   "source": [
    "img=cv2.imread('image12.png')\n",
    "img=cv2.resize(img,(400,400))\n",
    "\n",
    "k=np.ones((30,30),np.int8)\n",
    "\n",
    "cl=cv2.morphologyEx(img,cv2.MORPH_BLACKHAT,k, iterations=1)\n",
    "\n",
    "n=np.hstack((img,cl))\n",
    "\n",
    "cv2.imshow('myimage',n)\n",
    "cv2.waitKey(0)\n",
    "cv2.destroyAllWindows()"
   ]
  },
  {
   "cell_type": "code",
   "execution_count": null,
   "id": "03731c89-c29e-4d81-8607-5694363983f7",
   "metadata": {},
   "outputs": [],
   "source": []
  }
 ],
 "metadata": {
  "kernelspec": {
   "display_name": "Python 3 (ipykernel)",
   "language": "python",
   "name": "python3"
  },
  "language_info": {
   "codemirror_mode": {
    "name": "ipython",
    "version": 3
   },
   "file_extension": ".py",
   "mimetype": "text/x-python",
   "name": "python",
   "nbconvert_exporter": "python",
   "pygments_lexer": "ipython3",
   "version": "3.13.2"
  },
  "widgets": {
   "application/vnd.jupyter.widget-state+json": {
    "state": {},
    "version_major": 2,
    "version_minor": 0
   }
  }
 },
 "nbformat": 4,
 "nbformat_minor": 5
}
