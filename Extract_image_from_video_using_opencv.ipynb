{
 "cells": [
  {
   "cell_type": "code",
   "execution_count": 1,
   "id": "c216eccc-dac0-4f89-91ad-044fba5d5aaa",
   "metadata": {},
   "outputs": [],
   "source": [
    "import cv2"
   ]
  },
  {
   "cell_type": "code",
   "execution_count": 3,
   "id": "f95adac7-6a0f-40df-b163-ba09fe3ade92",
   "metadata": {},
   "outputs": [],
   "source": [
    "cap=cv2.VideoCapture('life.mp4')\n",
    "c=0\n",
    "while True:\n",
    "    r,frame = cap.read()\n",
    "    if r==True:\n",
    "        frame=cv2.resize(frame,(500,500))\n",
    "        filename=\"C://Users//verma//AIML//OPENCV//learning//ss\" + str(c) + \".png\"\n",
    "        cv2.imwrite(filename,frame)\n",
    "        cv2.imshow('newframe',frame)\n",
    "        c=c+1\n",
    "        if cv2.waitKey(25) & 0xff == ord('p'):\n",
    "            break\n",
    "    else:\n",
    "        break\n",
    "cap.release()\n",
    "cv2.destroyAllWindows()"
   ]
  },
  {
   "cell_type": "code",
   "execution_count": null,
   "id": "982b5419-e00a-4618-9f8a-92ef76bf3215",
   "metadata": {},
   "outputs": [],
   "source": []
  },
  {
   "cell_type": "code",
   "execution_count": null,
   "id": "7bb2b1bb-9b4d-49c3-816b-c7994ae63216",
   "metadata": {},
   "outputs": [],
   "source": []
  }
 ],
 "metadata": {
  "kernelspec": {
   "display_name": "Python 3 (ipykernel)",
   "language": "python",
   "name": "python3"
  },
  "language_info": {
   "codemirror_mode": {
    "name": "ipython",
    "version": 3
   },
   "file_extension": ".py",
   "mimetype": "text/x-python",
   "name": "python",
   "nbconvert_exporter": "python",
   "pygments_lexer": "ipython3",
   "version": "3.13.2"
  },
  "widgets": {
   "application/vnd.jupyter.widget-state+json": {
    "state": {},
    "version_major": 2,
    "version_minor": 0
   }
  }
 },
 "nbformat": 4,
 "nbformat_minor": 5
}
