{
 "cells": [
  {
   "cell_type": "code",
   "execution_count": 1,
   "id": "8e63132c-2ea1-417c-9908-10cf6c9c084b",
   "metadata": {},
   "outputs": [],
   "source": [
    "import cv2\n",
    "import numpy as np\n",
    "img=cv2.imread('image1.jpg')\n",
    "img=cv2.resize(img,(300,300))\n",
    "kernel=np.ones((5,5),np.uint8)\n",
    "imgGray=cv2.cvtColor(img,cv2.COLOR_BGR2GRAY)\n",
    "imgBlur=cv2.GaussianBlur(img,(5,5),0)\n",
    "imgCanny=cv2.Canny(img,50,150)\n",
    "imgDialation=cv2.dilate(imgCanny,kernel,iterations=1)\n",
    "igErode=cv2.erode(imgDialation,kernel,iterations=1)\n",
    "\n",
    "cv2.imshow('Gray Image',imgGray)\n",
    "cv2.imshow('Blur Image',imgBlur)\n",
    "cv2.imshow('Canny Image',imgCanny)\n",
    "cv2.imshow('Dialation Image',imgDialation)\n",
    "cv2.imshow('IgErode Image',igErode)\n",
    "\n",
    "cv2.waitKey(0)\n",
    "cv2.destroyAllWindows()"
   ]
  },
  {
   "cell_type": "code",
   "execution_count": null,
   "id": "9757be81-e274-412f-87ec-8b608a51dc1e",
   "metadata": {},
   "outputs": [],
   "source": []
  }
 ],
 "metadata": {
  "kernelspec": {
   "display_name": "Python 3 (ipykernel)",
   "language": "python",
   "name": "python3"
  },
  "language_info": {
   "codemirror_mode": {
    "name": "ipython",
    "version": 3
   },
   "file_extension": ".py",
   "mimetype": "text/x-python",
   "name": "python",
   "nbconvert_exporter": "python",
   "pygments_lexer": "ipython3",
   "version": "3.13.2"
  },
  "widgets": {
   "application/vnd.jupyter.widget-state+json": {
    "state": {},
    "version_major": 2,
    "version_minor": 0
   }
  }
 },
 "nbformat": 4,
 "nbformat_minor": 5
}
