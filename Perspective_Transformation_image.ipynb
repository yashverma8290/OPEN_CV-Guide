{
 "cells": [
  {
   "cell_type": "code",
   "execution_count": 1,
   "id": "5c4c5d69-e8ce-4631-a2db-1fcbc36a7260",
   "metadata": {},
   "outputs": [],
   "source": [
    "import cv2\n",
    "import numpy as np"
   ]
  },
  {
   "cell_type": "code",
   "execution_count": 2,
   "id": "32508cf0-4599-448c-bdc1-a2fd1eca348a",
   "metadata": {},
   "outputs": [],
   "source": [
    "img=cv2.imread('image16.png')\n",
    "\n",
    "cv2.circle(img,(101,165),4,(0,0,255),-1)\n",
    "cv2.circle(img,(396,164),4,(0,0,255),-1)\n",
    "cv2.circle(img,(42,563),4,(0,0,255),-1)\n",
    "cv2.circle(img,(495,546),4,(0,0,255),-1)\n",
    "\n",
    "cv2.imshow('myimage',img)\n",
    "cv2.waitKey(0)\n",
    "cv2.destroyAllWindows()"
   ]
  },
  {
   "cell_type": "code",
   "execution_count": 3,
   "id": "49b25c19-ce36-4707-90c7-527dcc0013da",
   "metadata": {},
   "outputs": [],
   "source": [
    "img=cv2.imread('image16.png')\n",
    "w,h=(503,598)\n",
    "\n",
    "src1=np.float32([[101,165],[396,164],[42,563],[495,546]])\n",
    "dst1=np.float32([[0,0],[w,0],[0,h],[w,h]])\n",
    "\n",
    "mask=cv2.getPerspectiveTransform(src1,dst1)\n",
    "new_img=cv2.warpPerspective(img,mask,(w,h))\n",
    "\n",
    "cv2.imshow('new_image',new_img)\n",
    "cv2.imshow('myimage',img)\n",
    "cv2.waitKey(0)\n",
    "cv2.destroyAllWindows()"
   ]
  },
  {
   "cell_type": "code",
   "execution_count": null,
   "id": "53c9ca0c-eb67-468c-a3a8-85ac3e143b3c",
   "metadata": {},
   "outputs": [],
   "source": []
  }
 ],
 "metadata": {
  "kernelspec": {
   "display_name": "Python 3 (ipykernel)",
   "language": "python",
   "name": "python3"
  },
  "language_info": {
   "codemirror_mode": {
    "name": "ipython",
    "version": 3
   },
   "file_extension": ".py",
   "mimetype": "text/x-python",
   "name": "python",
   "nbconvert_exporter": "python",
   "pygments_lexer": "ipython3",
   "version": "3.13.2"
  },
  "widgets": {
   "application/vnd.jupyter.widget-state+json": {
    "state": {},
    "version_major": 2,
    "version_minor": 0
   }
  }
 },
 "nbformat": 4,
 "nbformat_minor": 5
}
