{
 "cells": [
  {
   "cell_type": "code",
   "execution_count": 14,
   "id": "9d61132b-fe6a-4943-b1f8-572c31ee4686",
   "metadata": {},
   "outputs": [],
   "source": [
    "import cv2\n",
    "img=cv2.imread('image25.png')\n",
    "img=cv2.resize(img,(500,500))\n",
    "img1=cv2.cvtColor(img,cv2.COLOR_BGR2GRAY)\n",
    "\n",
    "r,thr=cv2.threshold(img1,239,255,cv2.THRESH_BINARY)\n",
    "c,hh=cv2.findContours(thr,cv2.RETR_TREE,cv2.CHAIN_APPROX_SIMPLE)\n",
    "\n",
    "new_img=cv2.drawContours(img,c,-1,(255,0,0),2)\n",
    "\n",
    "cv2.imshow('myimage',new_img)\n",
    "cv2.waitKey(0)\n",
    "cv2.destroyAllWindows()"
   ]
  },
  {
   "cell_type": "code",
   "execution_count": null,
   "id": "d7be92da-ca8d-4197-8cb7-16d95cfddfdc",
   "metadata": {},
   "outputs": [],
   "source": []
  },
  {
   "cell_type": "code",
   "execution_count": null,
   "id": "b3a8f1ae-815a-4d3c-9a2b-c777a51aa330",
   "metadata": {},
   "outputs": [],
   "source": []
  }
 ],
 "metadata": {
  "kernelspec": {
   "display_name": "Python 3 (ipykernel)",
   "language": "python",
   "name": "python3"
  },
  "language_info": {
   "codemirror_mode": {
    "name": "ipython",
    "version": 3
   },
   "file_extension": ".py",
   "mimetype": "text/x-python",
   "name": "python",
   "nbconvert_exporter": "python",
   "pygments_lexer": "ipython3",
   "version": "3.13.2"
  },
  "widgets": {
   "application/vnd.jupyter.widget-state+json": {
    "state": {},
    "version_major": 2,
    "version_minor": 0
   }
  }
 },
 "nbformat": 4,
 "nbformat_minor": 5
}
