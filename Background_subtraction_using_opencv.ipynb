{
 "cells": [
  {
   "cell_type": "code",
   "execution_count": 1,
   "id": "ecad254c-3d94-4cb0-a4cd-619d0ecd436e",
   "metadata": {},
   "outputs": [],
   "source": [
    "import cv2"
   ]
  },
  {
   "cell_type": "code",
   "execution_count": 2,
   "id": "90c2bff8-e0d2-43e9-85fd-1415698efa17",
   "metadata": {},
   "outputs": [],
   "source": [
    "video=cv2.VideoCapture('MIT2.mp4')\n",
    "sub_m=cv2.createBackgroundSubtractorMOG2()\n",
    "while True:\n",
    "    r,frame=video.read()\n",
    "    if r==True:\n",
    "        frame=cv2.resize(frame,(700,500))\n",
    "        sub_v=sub_m.apply(frame)\n",
    "        cv2.imshow('new_video',sub_v)\n",
    "        cv2.imshow('old_video',frame)\n",
    "        if cv2.waitKey(25)  & 0xff==ord('p'):\n",
    "            break\n",
    "    else:\n",
    "        break\n",
    "\n",
    "video.release()\n",
    "cv2.destroyAllWindows()"
   ]
  },
  {
   "cell_type": "code",
   "execution_count": null,
   "id": "22d90a93-6679-4f8f-9131-303863dbefaf",
   "metadata": {},
   "outputs": [],
   "source": []
  }
 ],
 "metadata": {
  "kernelspec": {
   "display_name": "Python 3 (ipykernel)",
   "language": "python",
   "name": "python3"
  },
  "language_info": {
   "codemirror_mode": {
    "name": "ipython",
    "version": 3
   },
   "file_extension": ".py",
   "mimetype": "text/x-python",
   "name": "python",
   "nbconvert_exporter": "python",
   "pygments_lexer": "ipython3",
   "version": "3.13.2"
  },
  "widgets": {
   "application/vnd.jupyter.widget-state+json": {
    "state": {},
    "version_major": 2,
    "version_minor": 0
   }
  }
 },
 "nbformat": 4,
 "nbformat_minor": 5
}
