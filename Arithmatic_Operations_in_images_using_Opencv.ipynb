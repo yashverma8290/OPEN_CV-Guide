{
 "cells": [
  {
   "cell_type": "code",
   "execution_count": 1,
   "id": "e32ce97d-85e7-4a23-9bd6-716e2828237d",
   "metadata": {},
   "outputs": [],
   "source": [
    "import cv2\n",
    "import numpy as np"
   ]
  },
  {
   "cell_type": "code",
   "execution_count": 8,
   "id": "e9c29ac2-ea04-4024-943d-238ccc85b685",
   "metadata": {},
   "outputs": [],
   "source": [
    "img1=cv2.imread('image3.jpg')\n",
    "img2=cv2.imread('image4.png')\n",
    "\n",
    "img1=cv2.resize(img1,(500,500))\n",
    "img2=cv2.resize(img2,(500,500))\n",
    "\n",
    "#new_img=cv2.addWeighted(img1,1,img2,0.5,1)\n",
    "new_img=cv2.subtract(img1,img2)\n",
    "\n",
    "cv2.imshow('my_image',new_img)\n",
    "cv2.waitKey(0)\n",
    "cv2.destroyAllWindows()"
   ]
  },
  {
   "cell_type": "markdown",
   "id": "421fbe4a-61d1-429d-9b24-c205d2ad1297",
   "metadata": {},
   "source": [
    "# Bitwise Operations on images using opencv"
   ]
  },
  {
   "cell_type": "code",
   "execution_count": 6,
   "id": "6a935ac7-e91d-45a6-adc7-a695dd4cd68e",
   "metadata": {},
   "outputs": [],
   "source": [
    "# OR\n",
    "img1=cv2.imread('binary1.jpg')\n",
    "img2=cv2.imread('binary2.png')\n",
    "\n",
    "img1=cv2.resize(img1,(500,500))\n",
    "img2=cv2.resize(img2,(500,500))\n",
    "\n",
    "new=cv2.bitwise_or(img1,img2)\n",
    "\n",
    "#h=np.hstack((img1,img2,new))\n",
    "cv2.imshow('myimage',new)\n",
    "cv2.waitKey(0)\n",
    "cv2.destroyAllWindows()"
   ]
  },
  {
   "cell_type": "code",
   "execution_count": 7,
   "id": "21540c5f-1558-43d5-bf59-871d66c224e4",
   "metadata": {},
   "outputs": [],
   "source": [
    "# AND \n",
    "img1=cv2.imread('binary1.jpg')\n",
    "img2=cv2.imread('binary2.png')\n",
    "\n",
    "img1=cv2.resize(img1,(500,500))\n",
    "img2=cv2.resize(img2,(500,500))\n",
    "\n",
    "new=cv2.bitwise_and(img1,img2)\n",
    "\n",
    "#h=np.hstack((img1,img2,new))\n",
    "cv2.imshow('myimage',new)\n",
    "cv2.waitKey(0)\n",
    "cv2.destroyAllWindows()"
   ]
  },
  {
   "cell_type": "code",
   "execution_count": 8,
   "id": "ab6c70a5-9698-4036-a12a-3468e9c4a709",
   "metadata": {},
   "outputs": [],
   "source": [
    "# XOR\n",
    "img1=cv2.imread('binary1.jpg')\n",
    "img2=cv2.imread('binary2.png')\n",
    "\n",
    "img1=cv2.resize(img1,(500,500))\n",
    "img2=cv2.resize(img2,(500,500))\n",
    "\n",
    "new=cv2.bitwise_xor(img1,img2)\n",
    "\n",
    "#h=np.hstack((img1,img2,new))\n",
    "cv2.imshow('myimage',new)\n",
    "cv2.waitKey(0)\n",
    "cv2.destroyAllWindows()"
   ]
  },
  {
   "cell_type": "code",
   "execution_count": 13,
   "id": "64507faf-68a0-4b04-be3f-8ae3e9e8acbd",
   "metadata": {},
   "outputs": [],
   "source": [
    "# NOT\n",
    "img1=cv2.imread('image3.jpg')\n",
    "img2=cv2.imread('binary2.png')\n",
    "\n",
    "img1=cv2.resize(img1,(500,500))\n",
    "img2=cv2.resize(img2,(500,500))\n",
    "\n",
    "new=cv2.bitwise_not(img1)\n",
    "\n",
    "#h=np.hstack((img1,img2,new))\n",
    "cv2.imshow('myimage',new)\n",
    "cv2.waitKey(0)\n",
    "cv2.destroyAllWindows()"
   ]
  },
  {
   "cell_type": "code",
   "execution_count": null,
   "id": "cab053db-81e6-4941-bba2-63b7837c682e",
   "metadata": {},
   "outputs": [],
   "source": []
  }
 ],
 "metadata": {
  "kernelspec": {
   "display_name": "Python 3 (ipykernel)",
   "language": "python",
   "name": "python3"
  },
  "language_info": {
   "codemirror_mode": {
    "name": "ipython",
    "version": 3
   },
   "file_extension": ".py",
   "mimetype": "text/x-python",
   "name": "python",
   "nbconvert_exporter": "python",
   "pygments_lexer": "ipython3",
   "version": "3.13.2"
  },
  "widgets": {
   "application/vnd.jupyter.widget-state+json": {
    "state": {},
    "version_major": 2,
    "version_minor": 0
   }
  }
 },
 "nbformat": 4,
 "nbformat_minor": 5
}
