{
 "cells": [
  {
   "cell_type": "code",
   "execution_count": 2,
   "id": "7184c6ba-1c87-4707-8e46-22efd73f9966",
   "metadata": {},
   "outputs": [],
   "source": [
    "import cv2\n",
    "import numpy as np"
   ]
  },
  {
   "cell_type": "code",
   "execution_count": 5,
   "id": "2e85f8ea-e56a-4c36-86bd-46e834c0be15",
   "metadata": {},
   "outputs": [],
   "source": [
    "def python(event,x,y,f,p):\n",
    "    if event == cv2.EVENT_LBUTTONDOWN:\n",
    "          cv2.circle(img,(x,y),5,(0,0,255),4)\n",
    "    elif event==cv2.EVENT_RBUTTONDOWN:\n",
    "          cv2.rectangle(img,(x,y),(x+20,y+20),(255,0,0),4)\n",
    "\n",
    "cv2.namedWindow('myfile')\n",
    "img=np.ones((600,600,3),np.uint8)*255\n",
    "cv2.setMouseCallback('myfile',python)\n",
    "while True:\n",
    "    cv2.imshow('myfile',img)\n",
    "    if cv2.waitKey(25) & 0xff ==ord('p'):\n",
    "        break\n",
    "\n",
    "cv2.destroyAllWindows()\n",
    "\n"
   ]
  },
  {
   "cell_type": "code",
   "execution_count": 6,
   "id": "57e6b95c-602e-4b74-a9eb-1776bad51917",
   "metadata": {},
   "outputs": [],
   "source": [
    "cv2.imshow('myfile',img)\n",
    "cv2.waitKey(0)\n",
    "cv2.destroyAllWindows()"
   ]
  },
  {
   "cell_type": "code",
   "execution_count": null,
   "id": "3b71cbf0-180f-4e1c-9df7-44b203b70070",
   "metadata": {},
   "outputs": [],
   "source": []
  }
 ],
 "metadata": {
  "kernelspec": {
   "display_name": "Python 3 (ipykernel)",
   "language": "python",
   "name": "python3"
  },
  "language_info": {
   "codemirror_mode": {
    "name": "ipython",
    "version": 3
   },
   "file_extension": ".py",
   "mimetype": "text/x-python",
   "name": "python",
   "nbconvert_exporter": "python",
   "pygments_lexer": "ipython3",
   "version": "3.13.2"
  },
  "widgets": {
   "application/vnd.jupyter.widget-state+json": {
    "state": {},
    "version_major": 2,
    "version_minor": 0
   }
  }
 },
 "nbformat": 4,
 "nbformat_minor": 5
}
