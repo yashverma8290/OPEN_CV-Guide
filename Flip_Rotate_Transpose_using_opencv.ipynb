{
 "cells": [
  {
   "cell_type": "code",
   "execution_count": 1,
   "id": "aed17a16-6a84-49d4-ab7f-5ee89522661d",
   "metadata": {},
   "outputs": [],
   "source": [
    "import cv2"
   ]
  },
  {
   "cell_type": "code",
   "execution_count": 11,
   "id": "94a213b6-377e-4fe1-8b2c-f329a6979b0c",
   "metadata": {},
   "outputs": [],
   "source": [
    "img=cv2.imread('image10.png')\n",
    "img=cv2.resize(img,(500,500))\n",
    "\n",
    "#img=cv2.flip(img,1) # y axis flip\n",
    "#img=cv2.flip(img,0) # x axis flip\n",
    "#img=cv2.flip(img,-1) # x,y axis flip\n",
    "\n",
    "#img=cv2.rotate(img,cv2.ROTATE_180)\n",
    "\n",
    "img=cv2.transpose(img)\n",
    "\n",
    "cv2.imshow('myimage',img)\n",
    "cv2.waitKey(0)\n",
    "cv2.destroyAllWindows()"
   ]
  },
  {
   "cell_type": "code",
   "execution_count": null,
   "id": "f10ea88e-58e1-4074-b108-a773425c554e",
   "metadata": {},
   "outputs": [],
   "source": []
  }
 ],
 "metadata": {
  "kernelspec": {
   "display_name": "Python 3 (ipykernel)",
   "language": "python",
   "name": "python3"
  },
  "language_info": {
   "codemirror_mode": {
    "name": "ipython",
    "version": 3
   },
   "file_extension": ".py",
   "mimetype": "text/x-python",
   "name": "python",
   "nbconvert_exporter": "python",
   "pygments_lexer": "ipython3",
   "version": "3.13.2"
  },
  "widgets": {
   "application/vnd.jupyter.widget-state+json": {
    "state": {},
    "version_major": 2,
    "version_minor": 0
   }
  }
 },
 "nbformat": 4,
 "nbformat_minor": 5
}
