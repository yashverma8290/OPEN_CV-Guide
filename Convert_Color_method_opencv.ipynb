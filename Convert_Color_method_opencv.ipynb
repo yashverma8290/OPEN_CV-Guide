{
 "cells": [
  {
   "cell_type": "code",
   "execution_count": 2,
   "id": "70073d51-e182-4864-867b-ce6493732482",
   "metadata": {},
   "outputs": [],
   "source": [
    "import cv2"
   ]
  },
  {
   "cell_type": "code",
   "execution_count": 4,
   "id": "fa3dd090-8a29-4119-9f6d-3b4de2a6ee34",
   "metadata": {},
   "outputs": [],
   "source": [
    "org=cv2.imread('image9.jpg')\n",
    "org=cv2.resize(org,(500,500))\n",
    "\n",
    "new=cv2.cvtColor(org,cv2.COLOR_BGR2YCrCb)\n",
    "\n",
    "cv2.imshow('org',org)\n",
    "cv2.imshow('new',new)\n",
    "cv2.waitKey(0)\n",
    "cv2.destroyAllWindows()"
   ]
  },
  {
   "cell_type": "code",
   "execution_count": null,
   "id": "89408611-23f4-43e5-b9f9-b52bed80e955",
   "metadata": {},
   "outputs": [],
   "source": []
  },
  {
   "cell_type": "code",
   "execution_count": null,
   "id": "2ae95fa8-2854-44bf-9ad7-a13b2567b56f",
   "metadata": {},
   "outputs": [],
   "source": []
  }
 ],
 "metadata": {
  "kernelspec": {
   "display_name": "Python 3 (ipykernel)",
   "language": "python",
   "name": "python3"
  },
  "language_info": {
   "codemirror_mode": {
    "name": "ipython",
    "version": 3
   },
   "file_extension": ".py",
   "mimetype": "text/x-python",
   "name": "python",
   "nbconvert_exporter": "python",
   "pygments_lexer": "ipython3",
   "version": "3.13.2"
  },
  "widgets": {
   "application/vnd.jupyter.widget-state+json": {
    "state": {},
    "version_major": 2,
    "version_minor": 0
   }
  }
 },
 "nbformat": 4,
 "nbformat_minor": 5
}
