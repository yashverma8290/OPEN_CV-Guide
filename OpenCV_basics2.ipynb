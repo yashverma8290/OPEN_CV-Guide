{
 "cells": [
  {
   "cell_type": "code",
   "execution_count": 4,
   "id": "f1e7ec3a-5c4a-4963-8139-d7bbc13af2a0",
   "metadata": {},
   "outputs": [],
   "source": [
    "import cv2\n",
    "import numpy as np\n",
    "import os"
   ]
  },
  {
   "cell_type": "code",
   "execution_count": 3,
   "id": "2062df1b-e39a-4d1e-99ff-11ef2cc3b6ea",
   "metadata": {},
   "outputs": [],
   "source": [
    "import cv2\n",
    "img=cv2.imread('image.jpg') # to read image\n",
    "cv2.imshow(\"myimage\",img)  # to show image \n",
    "cv2.waitKey(0) \n",
    "cv2.destroyAllWindows() # to destroy all windows\n",
    "# cv2.destroyWindow('image') # to destroy specific window"
   ]
  },
  {
   "cell_type": "code",
   "execution_count": 4,
   "id": "0c21e1d6-8be3-47b5-82ca-1a7a58e84c6e",
   "metadata": {},
   "outputs": [],
   "source": [
    "import cv2\n",
    "img=cv2.imread('image3.jpg') # to read image\n",
    "re_img=cv2.resize(img,(500,500))\n",
    "cv2.imshow('myimage',re_img)\n",
    "cv2.waitKey(0)\n",
    "cv2.destroyAllWindows()"
   ]
  },
  {
   "cell_type": "code",
   "execution_count": 5,
   "id": "005b8d66-1235-427f-a38c-6929b750a46b",
   "metadata": {},
   "outputs": [
    {
     "name": "stdout",
     "output_type": "stream",
     "text": [
      "[[[243 240 236]\n",
      "  [243 240 236]\n",
      "  [243 240 236]\n",
      "  ...\n",
      "  [243 240 236]\n",
      "  [243 240 236]\n",
      "  [243 240 236]]\n",
      "\n",
      " [[243 240 236]\n",
      "  [243 240 236]\n",
      "  [243 240 236]\n",
      "  ...\n",
      "  [243 240 236]\n",
      "  [243 240 236]\n",
      "  [243 240 236]]\n",
      "\n",
      " [[243 240 236]\n",
      "  [243 240 236]\n",
      "  [243 240 236]\n",
      "  ...\n",
      "  [243 240 236]\n",
      "  [243 240 236]\n",
      "  [243 240 236]]\n",
      "\n",
      " ...\n",
      "\n",
      " [[243 240 236]\n",
      "  [243 240 236]\n",
      "  [243 240 236]\n",
      "  ...\n",
      "  [243 240 236]\n",
      "  [243 240 236]\n",
      "  [243 240 236]]\n",
      "\n",
      " [[243 240 236]\n",
      "  [243 240 236]\n",
      "  [243 240 236]\n",
      "  ...\n",
      "  [243 240 236]\n",
      "  [243 240 236]\n",
      "  [243 240 236]]\n",
      "\n",
      " [[243 240 236]\n",
      "  [243 240 236]\n",
      "  [243 240 236]\n",
      "  ...\n",
      "  [243 240 236]\n",
      "  [243 240 236]\n",
      "  [243 240 236]]]\n"
     ]
    }
   ],
   "source": [
    "img=cv2.imread('image.jpg')\n",
    "print(img)"
   ]
  },
  {
   "cell_type": "code",
   "execution_count": 12,
   "id": "9435f66e-5ae1-403c-8586-2f13ead5c08b",
   "metadata": {},
   "outputs": [],
   "source": [
    "import numpy as np\n",
    "img=cv2.imread('image3.jpg')\n",
    "re_img=cv2.resize(img,(300,300))\n",
    "h=np.vstack((re_img,re_img)) # for vertical\n",
    "cv2.imshow(\"myimage\",h)\n",
    "cv2.waitKey(0)\n",
    "cv2.destroyAllWindows()"
   ]
  },
  {
   "cell_type": "code",
   "execution_count": 13,
   "id": "ad4588d6-6848-4419-959a-e4ff4f7c3f42",
   "metadata": {},
   "outputs": [],
   "source": [
    "import numpy as np\n",
    "img=cv2.imread('image3.jpg')\n",
    "re_img=cv2.resize(img,(300,300))\n",
    "h=np.hstack((re_img,re_img))  # for horizontal\n",
    "cv2.imshow(\"myimage\",h)\n",
    "cv2.waitKey(0)\n",
    "cv2.destroyAllWindows()"
   ]
  },
  {
   "cell_type": "code",
   "execution_count": 16,
   "id": "8dd1885d-b322-47af-a54c-6279da7d0460",
   "metadata": {},
   "outputs": [],
   "source": [
    "import numpy as np\n",
    "img=cv2.imread('image3.jpg')\n",
    "re_img=cv2.resize(img,(300,300))\n",
    "h=np.hstack((re_img,re_img))  # for horizontal\n",
    "v=np.vstack((h,h))\n",
    "cv2.imshow(\"myimage\",v)\n",
    "cv2.waitKey(0)\n",
    "cv2.destroyAllWindows()"
   ]
  },
  {
   "cell_type": "code",
   "execution_count": 20,
   "id": "7fb3b18b-73d7-4af4-88f4-4806706969dc",
   "metadata": {},
   "outputs": [],
   "source": [
    "import cv2\n",
    "import numpy as np\n",
    "\n",
    "# Load and resize the image\n",
    "img = cv2.imread('image3.jpg')\n",
    "re_img = cv2.resize(img, (200, 200))\n",
    "\n",
    "# Create a list of 10 copies of the resized image\n",
    "img_list = [re_img for _ in range(5)]\n",
    "\n",
    "# For horizontal stacking of 10 images\n",
    "hstacked = np.hstack(img_list)\n",
    "\n",
    "# If you want a grid (e.g. 2 rows of 5 images each)\n",
    "row1 = np.hstack(img_list[:5])\n",
    "row2 = np.hstack(img_list[:5])\n",
    "row3 = np.hstack(img_list[:5])\n",
    "grid = np.vstack((row1, row2, row3))\n",
    "\n",
    "cv2.imshow(\"Stacked Image Grid\", grid)\n",
    "cv2.waitKey(0)\n",
    "cv2.destroyAllWindows()\n"
   ]
  },
  {
   "cell_type": "code",
   "execution_count": 5,
   "id": "8802d80a-ccb5-4719-8228-c02c39b8c846",
   "metadata": {},
   "outputs": [
    {
     "data": {
      "text/plain": [
       "['.ipynb_checkpoints',\n",
       " 'desktop.ini',\n",
       " 'image1.jpg',\n",
       " 'image2.jpg',\n",
       " 'image3.jpg',\n",
       " 'image4.png',\n",
       " 'image5.jpeg',\n",
       " 'image6.jfif',\n",
       " 'image7.jpg',\n",
       " 'image8.jpg',\n",
       " 'image_read.py',\n",
       " 'Untitled.ipynb']"
      ]
     },
     "execution_count": 5,
     "metadata": {},
     "output_type": "execute_result"
    }
   ],
   "source": [
    "list_name=os.listdir(r\"C:\\Users\\verma\\AIML\\OPENCV\\learning\")\n",
    "list_name"
   ]
  },
  {
   "cell_type": "code",
   "execution_count": 12,
   "id": "056181ae-bcc3-428f-b027-7b57cd747287",
   "metadata": {},
   "outputs": [],
   "source": [
    "import cv2\n",
    "import os\n",
    "\n",
    "path = \"C:\\\\Users\\\\verma\\\\AIML\\\\OPENCV\\\\learning\"\n",
    "list_name = [\"image1.jpg\", \"image2.jpg\", \"image3.jpg\", \"image4.png\", \"image5.jpeg\"]  # your list of image names\n",
    "\n",
    "for name in list_name:\n",
    "    img_path = os.path.join(path, name)  # cleaner and OS-safe\n",
    "    img = cv2.imread(img_path)\n",
    "\n",
    "    if img is None:\n",
    "        print(f\"[ERROR] Couldn't load image: {img_path}\")\n",
    "        continue  # skip to next image\n",
    "\n",
    "    img = cv2.resize(img, (500, 600))\n",
    "    cv2.imshow('myimage', img)\n",
    "    cv2.waitKey(1000)\n",
    "\n",
    "cv2.destroyAllWindows()\n"
   ]
  },
  {
   "cell_type": "code",
   "execution_count": null,
   "id": "6d2678d4-86b9-4374-a9bc-3e39c940355d",
   "metadata": {},
   "outputs": [],
   "source": []
  }
 ],
 "metadata": {
  "kernelspec": {
   "display_name": "Python 3 (ipykernel)",
   "language": "python",
   "name": "python3"
  },
  "language_info": {
   "codemirror_mode": {
    "name": "ipython",
    "version": 3
   },
   "file_extension": ".py",
   "mimetype": "text/x-python",
   "name": "python",
   "nbconvert_exporter": "python",
   "pygments_lexer": "ipython3",
   "version": "3.13.2"
  },
  "widgets": {
   "application/vnd.jupyter.widget-state+json": {
    "state": {},
    "version_major": 2,
    "version_minor": 0
   }
  }
 },
 "nbformat": 4,
 "nbformat_minor": 5
}
