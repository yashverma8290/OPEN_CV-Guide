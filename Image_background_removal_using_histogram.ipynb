{
 "cells": [
  {
   "cell_type": "code",
   "execution_count": 1,
   "id": "f254369d-b42f-45e3-a067-d4eff44f49a2",
   "metadata": {},
   "outputs": [],
   "source": [
    "import cv2"
   ]
  },
  {
   "cell_type": "code",
   "execution_count": 24,
   "id": "7cc870b9-a3ab-4945-9b8a-edb75020fd4a",
   "metadata": {},
   "outputs": [],
   "source": [
    "img=cv2.imread('image27.png')\n",
    "img=cv2.resize(img,(700,500))\n",
    "hsv=cv2.cvtColor(img,cv2.COLOR_BGR2HSV)\n",
    "\n",
    "img1=cv2.imread('image27a.png')\n",
    "hsv2=cv2.cvtColor(img1,cv2.COLOR_BGR2HSV)\n",
    "\n",
    "hist=cv2.calcHist([hsv2],[0,1],None,[180,256],[0,180,0,256])\n",
    "mask=cv2.calcBackProject([hsv],[0,1],hist,[0,180,0,256],1)\n",
    "\n",
    "kernal=cv2.getStructuringElement(cv2.MORPH_ELLIPSE,(5,5))\n",
    "mask=cv2.filter2D(mask,-1,kernal)\n",
    "\n",
    "_,thr=cv2.threshold(mask,100,255,cv2.THRESH_BINARY)\n",
    "\n",
    "mask=cv2.merge((mask,mask,mask))\n",
    "\n",
    "res=cv2.bitwise_or(img,mask)\n",
    "\n",
    "#res=cv2.bitwise_or(img,img,mask=mask)\n",
    "\n",
    "cv2.imshow('new',res)\n",
    "cv2.imshow('myimage',img)\n",
    "cv2.waitKey(0)\n",
    "cv2.destroyAllWindows()"
   ]
  },
  {
   "cell_type": "code",
   "execution_count": null,
   "id": "da361bab-9d3f-402b-b389-9cc88bd1b736",
   "metadata": {},
   "outputs": [],
   "source": []
  },
  {
   "cell_type": "code",
   "execution_count": null,
   "id": "20ea7b9e-d14b-4ed3-8b55-537067d31ae6",
   "metadata": {},
   "outputs": [],
   "source": []
  }
 ],
 "metadata": {
  "kernelspec": {
   "display_name": "Python 3 (ipykernel)",
   "language": "python",
   "name": "python3"
  },
  "language_info": {
   "codemirror_mode": {
    "name": "ipython",
    "version": 3
   },
   "file_extension": ".py",
   "mimetype": "text/x-python",
   "name": "python",
   "nbconvert_exporter": "python",
   "pygments_lexer": "ipython3",
   "version": "3.13.2"
  },
  "widgets": {
   "application/vnd.jupyter.widget-state+json": {
    "state": {},
    "version_major": 2,
    "version_minor": 0
   }
  }
 },
 "nbformat": 4,
 "nbformat_minor": 5
}
